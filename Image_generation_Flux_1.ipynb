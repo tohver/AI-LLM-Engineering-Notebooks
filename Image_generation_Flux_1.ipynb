{
  "cells": [
    {
      "cell_type": "markdown",
      "metadata": {
        "colab_type": "text",
        "id": "view-in-github"
      },
      "source": [
        "<a href=\"https://colab.research.google.com/github/tohver/AI-LLM-Engineering-Notebooks/blob/main/Image_generation_Flux_1.ipynb\" target=\"_parent\"><img src=\"https://colab.research.google.com/assets/colab-badge.svg\" alt=\"Open In Colab\"/></a>"
      ]
    },
    {
      "cell_type": "code",
      "execution_count": null,
      "metadata": {
        "id": "wV3wgs4dVUR0"
      },
      "outputs": [],
      "source": [
        "!pip install -q diffusers transformers accelerate bitsandbytes datasets fsspec==2023.9.2"
      ]
    },
    {
      "cell_type": "code",
      "execution_count": null,
      "metadata": {
        "id": "n1LFYDDJnaNb"
      },
      "outputs": [],
      "source": [
        "from huggingface_hub import login\n",
        "from google.colab import userdata\n",
        "import torch\n",
        "from diffusers import FluxPipeline\n",
        "\n",
        "\n",
        "prompt = \"A cat holding a sign that says Welcome to the cat villiage. Comic style\"\n",
        "\n",
        "\n",
        "def hf_login(add_to_git_credential=False):\n",
        "    \"\"\"Login to Hugging Face Hub.\"\"\"\n",
        "    hf_token = userdata.get('HF_TOKEN')\n",
        "    login(hf_token, add_to_git_credential=True)\n",
        "\n",
        "def main():\n",
        "    hf_login()  \n",
        "\n",
        "    pipe = FluxPipeline.from_pretrained(\"black-forest-labs/FLUX.1-schnell\", torch_dtype=torch.bfloat16).to(\"cuda\")\n",
        "    generator = torch.Generator(device=\"cuda\").manual_seed(0)\n",
        "\n",
        "    # Generate the image using the GPU\n",
        "    image = pipe(\n",
        "        prompt,\n",
        "        guidance_scale=0.0,\n",
        "        num_inference_steps=4,\n",
        "        max_sequence_length=256,\n",
        "        generator=generator\n",
        "    ).images[0]\n",
        "\n",
        "\n",
        "    image.save(\"surreal.png\")\n",
        "\n",
        "if __name__ == \"__main__\":\n",
        "    main()"
      ]
    },
    {
      "cell_type": "code",
      "execution_count": null,
      "metadata": {
        "id": "4rvDyKI1xYXf"
      },
      "outputs": [],
      "source": []
    }
  ],
  "metadata": {
    "accelerator": "GPU",
    "colab": {
      "authorship_tag": "ABX9TyMF22oYKEQXN7AMAmIm9vqb",
      "gpuType": "A100",
      "include_colab_link": true,
      "machine_shape": "hm",
      "provenance": []
    },
    "kernelspec": {
      "display_name": "Python 3",
      "name": "python3"
    },
    "language_info": {
      "name": "python"
    }
  },
  "nbformat": 4,
  "nbformat_minor": 0
}
